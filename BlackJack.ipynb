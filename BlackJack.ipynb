{
  "cells": [
    {
      "cell_type": "markdown",
      "metadata": {
        "id": "SaLzgBCu725R"
      },
      "source": [
        "# CCS 1400 Project - A Game of Blackjack\n",
        "In this project you need to create a simple text-based [BlackJack](https://en.wikipedia.org/wiki/Blackjack) game using Python.\n",
        "\n",
        "Requirements:\n",
        "1. The game needs to have one human player versus an automated dealer.\n",
        "2. The player can stand or hit.\n",
        "3. The player is allowed to pick their betting amount.\n",
        "4. You need to keep track of the player's total money.\n",
        "5. You need to alert the player of wins, losses, or busts, etc...\n",
        "6. **Use of OOP and classes are a must in at least some portion of your game. You can not just use functions in this project.**\n",
        "7. Complete the project by playing at least two rounds where you are able to show the steps defined under Game Play (shown below)\n",
        "\n",
        "\n",
        "**You will need to use all that we have learned so far, and more, to finish this project.**\n",
        "\n",
        "Hint: You can use classes to help you define the Deck and the Player's hand."
      ]
    },
    {
      "cell_type": "markdown",
      "metadata": {
        "id": "oQCsSH888BfQ"
      },
      "source": [
        "## Game Play"
      ]
    },
    {
      "cell_type": "markdown",
      "metadata": {
        "id": "U6kzzqkI8CRZ"
      },
      "source": [
        "Before the game:\n",
        "1. Ask the name of the Player\n",
        "2. Give the Player a starting balance of $100 (Player loses if he runs out of money)\n"
      ]
    },
    {
      "cell_type": "markdown",
      "metadata": {
        "id": "OZ7SBGbx74_A"
      },
      "source": [
        "Steps to play a hand of Blackjack:\n",
        "1. Create a deck of 52 cards\n",
        "2. Shuffle the deck\n",
        "3. Ask the Player for their bet\n",
        "4. Make sure that the Player's bet does not exceed their available chips\n",
        "5. Deal two cards to the Dealer and two cards to the Player\n",
        "6. Show only one of the Dealer's cards, the other remains hidden\n",
        "7. Show both of the Player's cards\n",
        "8. Ask the Player if they wish to Hit, and take another card\n",
        "9. If the Player's hand doesn't Bust (go over 21), ask if they'd like to Hit again.\n",
        "10. If a Player Stands, play the Dealer's hand. The dealer will always Hit until the Dealer's value meets or exceeds 17\n",
        "11. Determine the winner and adjust the Player's chips accordingly\n",
        "12. Ask the Player if they'd like to play again"
      ]
    },
    {
      "cell_type": "markdown",
      "metadata": {
        "id": "vAseKwRjBbq_"
      },
      "source": [
        "## Playing Cards\n",
        "A standard deck of playing cards contains four suits (Hearts, Diamonds, Spades, and Clubs) with thirteen ranks (2 through 10, then the face cards Jack, Queen, King, and Ace). This makes for a total of 52 cards per deck. \n",
        "\n",
        "Jacks, Queens and Kings all have a rank of 10. Aces have a rank of either 11 or 1 as needed to reach 21 without going BUST. \n",
        "\n",
        "As a starting point in your program, you may want to assign variables to store a list of suits, ranks, and then use a dictionary to map ranks to values."
      ]
    }
  ],
  "metadata": {
    "colab": {
      "provenance": []
    },
    "kernelspec": {
      "display_name": "Python 3",
      "language": "python",
      "name": "python3"
    },
    "language_info": {
      "codemirror_mode": {
        "name": "ipython",
        "version": 3
      },
      "file_extension": ".py",
      "mimetype": "text/x-python",
      "name": "python",
      "nbconvert_exporter": "python",
      "pygments_lexer": "ipython3",
      "version": "3.6.6"
    }
  },
  "nbformat": 4,
  "nbformat_minor": 0
}
